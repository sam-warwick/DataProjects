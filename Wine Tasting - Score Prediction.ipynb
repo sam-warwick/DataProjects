{
 "cells": [
  {
   "cell_type": "code",
   "execution_count": 70,
   "id": "a1fe9e3b",
   "metadata": {},
   "outputs": [],
   "source": [
    "import pandas as pd\n",
    "import numpy as np\n",
    "import matplotlib.pyplot as plt\n",
    "import seaborn as sns\n",
    "from sklearn.model_selection import train_test_split\n",
    "from sklearn.linear_model import LinearRegression\n",
    "from sklearn import metrics"
   ]
  },
  {
   "cell_type": "code",
   "execution_count": 19,
   "id": "b4009193",
   "metadata": {},
   "outputs": [
    {
     "data": {
      "text/plain": [
       "(129971, 14)"
      ]
     },
     "execution_count": 19,
     "metadata": {},
     "output_type": "execute_result"
    }
   ],
   "source": [
    "df = pd.read_csv('/Users/SamWarwick/Downloads/winemag-data-130k-v2.csv')\n",
    "df.shape"
   ]
  },
  {
   "cell_type": "code",
   "execution_count": 6,
   "id": "de1c6d04",
   "metadata": {},
   "outputs": [
    {
     "data": {
      "text/html": [
       "<div>\n",
       "<style scoped>\n",
       "    .dataframe tbody tr th:only-of-type {\n",
       "        vertical-align: middle;\n",
       "    }\n",
       "\n",
       "    .dataframe tbody tr th {\n",
       "        vertical-align: top;\n",
       "    }\n",
       "\n",
       "    .dataframe thead th {\n",
       "        text-align: right;\n",
       "    }\n",
       "</style>\n",
       "<table border=\"1\" class=\"dataframe\">\n",
       "  <thead>\n",
       "    <tr style=\"text-align: right;\">\n",
       "      <th></th>\n",
       "      <th>id</th>\n",
       "      <th>country</th>\n",
       "      <th>description</th>\n",
       "      <th>designation</th>\n",
       "      <th>points</th>\n",
       "      <th>price</th>\n",
       "      <th>province</th>\n",
       "      <th>region_1</th>\n",
       "      <th>region_2</th>\n",
       "      <th>taster_name</th>\n",
       "      <th>taster_twitter_handle</th>\n",
       "      <th>title</th>\n",
       "      <th>variety</th>\n",
       "      <th>winery</th>\n",
       "    </tr>\n",
       "  </thead>\n",
       "  <tbody>\n",
       "    <tr>\n",
       "      <th>0</th>\n",
       "      <td>0</td>\n",
       "      <td>Italy</td>\n",
       "      <td>Aromas include tropical fruit, broom, brimston...</td>\n",
       "      <td>Vulkà Bianco</td>\n",
       "      <td>87</td>\n",
       "      <td>NaN</td>\n",
       "      <td>Sicily &amp; Sardinia</td>\n",
       "      <td>Etna</td>\n",
       "      <td>NaN</td>\n",
       "      <td>Kerin O’Keefe</td>\n",
       "      <td>@kerinokeefe</td>\n",
       "      <td>Nicosia 2013 Vulkà Bianco  (Etna)</td>\n",
       "      <td>White Blend</td>\n",
       "      <td>Nicosia</td>\n",
       "    </tr>\n",
       "    <tr>\n",
       "      <th>1</th>\n",
       "      <td>1</td>\n",
       "      <td>Portugal</td>\n",
       "      <td>This is ripe and fruity, a wine that is smooth...</td>\n",
       "      <td>Avidagos</td>\n",
       "      <td>87</td>\n",
       "      <td>15.0</td>\n",
       "      <td>Douro</td>\n",
       "      <td>NaN</td>\n",
       "      <td>NaN</td>\n",
       "      <td>Roger Voss</td>\n",
       "      <td>@vossroger</td>\n",
       "      <td>Quinta dos Avidagos 2011 Avidagos Red (Douro)</td>\n",
       "      <td>Portuguese Red</td>\n",
       "      <td>Quinta dos Avidagos</td>\n",
       "    </tr>\n",
       "    <tr>\n",
       "      <th>2</th>\n",
       "      <td>2</td>\n",
       "      <td>US</td>\n",
       "      <td>Tart and snappy, the flavors of lime flesh and...</td>\n",
       "      <td>NaN</td>\n",
       "      <td>87</td>\n",
       "      <td>14.0</td>\n",
       "      <td>Oregon</td>\n",
       "      <td>Willamette Valley</td>\n",
       "      <td>Willamette Valley</td>\n",
       "      <td>Paul Gregutt</td>\n",
       "      <td>@paulgwine</td>\n",
       "      <td>Rainstorm 2013 Pinot Gris (Willamette Valley)</td>\n",
       "      <td>Pinot Gris</td>\n",
       "      <td>Rainstorm</td>\n",
       "    </tr>\n",
       "    <tr>\n",
       "      <th>3</th>\n",
       "      <td>3</td>\n",
       "      <td>US</td>\n",
       "      <td>Pineapple rind, lemon pith and orange blossom ...</td>\n",
       "      <td>Reserve Late Harvest</td>\n",
       "      <td>87</td>\n",
       "      <td>13.0</td>\n",
       "      <td>Michigan</td>\n",
       "      <td>Lake Michigan Shore</td>\n",
       "      <td>NaN</td>\n",
       "      <td>Alexander Peartree</td>\n",
       "      <td>NaN</td>\n",
       "      <td>St. Julian 2013 Reserve Late Harvest Riesling ...</td>\n",
       "      <td>Riesling</td>\n",
       "      <td>St. Julian</td>\n",
       "    </tr>\n",
       "    <tr>\n",
       "      <th>4</th>\n",
       "      <td>4</td>\n",
       "      <td>US</td>\n",
       "      <td>Much like the regular bottling from 2012, this...</td>\n",
       "      <td>Vintner's Reserve Wild Child Block</td>\n",
       "      <td>87</td>\n",
       "      <td>65.0</td>\n",
       "      <td>Oregon</td>\n",
       "      <td>Willamette Valley</td>\n",
       "      <td>Willamette Valley</td>\n",
       "      <td>Paul Gregutt</td>\n",
       "      <td>@paulgwine</td>\n",
       "      <td>Sweet Cheeks 2012 Vintner's Reserve Wild Child...</td>\n",
       "      <td>Pinot Noir</td>\n",
       "      <td>Sweet Cheeks</td>\n",
       "    </tr>\n",
       "    <tr>\n",
       "      <th>5</th>\n",
       "      <td>5</td>\n",
       "      <td>Spain</td>\n",
       "      <td>Blackberry and raspberry aromas show a typical...</td>\n",
       "      <td>Ars In Vitro</td>\n",
       "      <td>87</td>\n",
       "      <td>15.0</td>\n",
       "      <td>Northern Spain</td>\n",
       "      <td>Navarra</td>\n",
       "      <td>NaN</td>\n",
       "      <td>Michael Schachner</td>\n",
       "      <td>@wineschach</td>\n",
       "      <td>Tandem 2011 Ars In Vitro Tempranillo-Merlot (N...</td>\n",
       "      <td>Tempranillo-Merlot</td>\n",
       "      <td>Tandem</td>\n",
       "    </tr>\n",
       "    <tr>\n",
       "      <th>6</th>\n",
       "      <td>6</td>\n",
       "      <td>Italy</td>\n",
       "      <td>Here's a bright, informal red that opens with ...</td>\n",
       "      <td>Belsito</td>\n",
       "      <td>87</td>\n",
       "      <td>16.0</td>\n",
       "      <td>Sicily &amp; Sardinia</td>\n",
       "      <td>Vittoria</td>\n",
       "      <td>NaN</td>\n",
       "      <td>Kerin O’Keefe</td>\n",
       "      <td>@kerinokeefe</td>\n",
       "      <td>Terre di Giurfo 2013 Belsito Frappato (Vittoria)</td>\n",
       "      <td>Frappato</td>\n",
       "      <td>Terre di Giurfo</td>\n",
       "    </tr>\n",
       "    <tr>\n",
       "      <th>7</th>\n",
       "      <td>7</td>\n",
       "      <td>France</td>\n",
       "      <td>This dry and restrained wine offers spice in p...</td>\n",
       "      <td>NaN</td>\n",
       "      <td>87</td>\n",
       "      <td>24.0</td>\n",
       "      <td>Alsace</td>\n",
       "      <td>Alsace</td>\n",
       "      <td>NaN</td>\n",
       "      <td>Roger Voss</td>\n",
       "      <td>@vossroger</td>\n",
       "      <td>Trimbach 2012 Gewurztraminer (Alsace)</td>\n",
       "      <td>Gewürztraminer</td>\n",
       "      <td>Trimbach</td>\n",
       "    </tr>\n",
       "    <tr>\n",
       "      <th>8</th>\n",
       "      <td>8</td>\n",
       "      <td>Germany</td>\n",
       "      <td>Savory dried thyme notes accent sunnier flavor...</td>\n",
       "      <td>Shine</td>\n",
       "      <td>87</td>\n",
       "      <td>12.0</td>\n",
       "      <td>Rheinhessen</td>\n",
       "      <td>NaN</td>\n",
       "      <td>NaN</td>\n",
       "      <td>Anna Lee C. Iijima</td>\n",
       "      <td>NaN</td>\n",
       "      <td>Heinz Eifel 2013 Shine Gewürztraminer (Rheinhe...</td>\n",
       "      <td>Gewürztraminer</td>\n",
       "      <td>Heinz Eifel</td>\n",
       "    </tr>\n",
       "    <tr>\n",
       "      <th>9</th>\n",
       "      <td>9</td>\n",
       "      <td>France</td>\n",
       "      <td>This has great depth of flavor with its fresh ...</td>\n",
       "      <td>Les Natures</td>\n",
       "      <td>87</td>\n",
       "      <td>27.0</td>\n",
       "      <td>Alsace</td>\n",
       "      <td>Alsace</td>\n",
       "      <td>NaN</td>\n",
       "      <td>Roger Voss</td>\n",
       "      <td>@vossroger</td>\n",
       "      <td>Jean-Baptiste Adam 2012 Les Natures Pinot Gris...</td>\n",
       "      <td>Pinot Gris</td>\n",
       "      <td>Jean-Baptiste Adam</td>\n",
       "    </tr>\n",
       "  </tbody>\n",
       "</table>\n",
       "</div>"
      ],
      "text/plain": [
       "   id   country                                        description  \\\n",
       "0   0     Italy  Aromas include tropical fruit, broom, brimston...   \n",
       "1   1  Portugal  This is ripe and fruity, a wine that is smooth...   \n",
       "2   2        US  Tart and snappy, the flavors of lime flesh and...   \n",
       "3   3        US  Pineapple rind, lemon pith and orange blossom ...   \n",
       "4   4        US  Much like the regular bottling from 2012, this...   \n",
       "5   5     Spain  Blackberry and raspberry aromas show a typical...   \n",
       "6   6     Italy  Here's a bright, informal red that opens with ...   \n",
       "7   7    France  This dry and restrained wine offers spice in p...   \n",
       "8   8   Germany  Savory dried thyme notes accent sunnier flavor...   \n",
       "9   9    France  This has great depth of flavor with its fresh ...   \n",
       "\n",
       "                          designation  points  price           province  \\\n",
       "0                        Vulkà Bianco      87    NaN  Sicily & Sardinia   \n",
       "1                            Avidagos      87   15.0              Douro   \n",
       "2                                 NaN      87   14.0             Oregon   \n",
       "3                Reserve Late Harvest      87   13.0           Michigan   \n",
       "4  Vintner's Reserve Wild Child Block      87   65.0             Oregon   \n",
       "5                        Ars In Vitro      87   15.0     Northern Spain   \n",
       "6                             Belsito      87   16.0  Sicily & Sardinia   \n",
       "7                                 NaN      87   24.0             Alsace   \n",
       "8                               Shine      87   12.0        Rheinhessen   \n",
       "9                         Les Natures      87   27.0             Alsace   \n",
       "\n",
       "              region_1           region_2         taster_name  \\\n",
       "0                 Etna                NaN       Kerin O’Keefe   \n",
       "1                  NaN                NaN          Roger Voss   \n",
       "2    Willamette Valley  Willamette Valley        Paul Gregutt   \n",
       "3  Lake Michigan Shore                NaN  Alexander Peartree   \n",
       "4    Willamette Valley  Willamette Valley        Paul Gregutt   \n",
       "5              Navarra                NaN   Michael Schachner   \n",
       "6             Vittoria                NaN       Kerin O’Keefe   \n",
       "7               Alsace                NaN          Roger Voss   \n",
       "8                  NaN                NaN  Anna Lee C. Iijima   \n",
       "9               Alsace                NaN          Roger Voss   \n",
       "\n",
       "  taster_twitter_handle                                              title  \\\n",
       "0          @kerinokeefe                  Nicosia 2013 Vulkà Bianco  (Etna)   \n",
       "1            @vossroger      Quinta dos Avidagos 2011 Avidagos Red (Douro)   \n",
       "2           @paulgwine       Rainstorm 2013 Pinot Gris (Willamette Valley)   \n",
       "3                   NaN  St. Julian 2013 Reserve Late Harvest Riesling ...   \n",
       "4           @paulgwine   Sweet Cheeks 2012 Vintner's Reserve Wild Child...   \n",
       "5           @wineschach  Tandem 2011 Ars In Vitro Tempranillo-Merlot (N...   \n",
       "6          @kerinokeefe   Terre di Giurfo 2013 Belsito Frappato (Vittoria)   \n",
       "7            @vossroger              Trimbach 2012 Gewurztraminer (Alsace)   \n",
       "8                   NaN  Heinz Eifel 2013 Shine Gewürztraminer (Rheinhe...   \n",
       "9            @vossroger  Jean-Baptiste Adam 2012 Les Natures Pinot Gris...   \n",
       "\n",
       "              variety               winery  \n",
       "0         White Blend              Nicosia  \n",
       "1      Portuguese Red  Quinta dos Avidagos  \n",
       "2          Pinot Gris            Rainstorm  \n",
       "3            Riesling           St. Julian  \n",
       "4          Pinot Noir         Sweet Cheeks  \n",
       "5  Tempranillo-Merlot               Tandem  \n",
       "6            Frappato      Terre di Giurfo  \n",
       "7      Gewürztraminer             Trimbach  \n",
       "8      Gewürztraminer          Heinz Eifel  \n",
       "9          Pinot Gris   Jean-Baptiste Adam  "
      ]
     },
     "execution_count": 6,
     "metadata": {},
     "output_type": "execute_result"
    }
   ],
   "source": [
    "df.head(10)"
   ]
  },
  {
   "cell_type": "code",
   "execution_count": 3,
   "id": "5954a7dd",
   "metadata": {},
   "outputs": [
    {
     "data": {
      "text/plain": [
       "<bound method DataFrame.info of             id   country                                        description  \\\n",
       "0            0     Italy  Aromas include tropical fruit, broom, brimston...   \n",
       "1            1  Portugal  This is ripe and fruity, a wine that is smooth...   \n",
       "2            2        US  Tart and snappy, the flavors of lime flesh and...   \n",
       "3            3        US  Pineapple rind, lemon pith and orange blossom ...   \n",
       "4            4        US  Much like the regular bottling from 2012, this...   \n",
       "...        ...       ...                                                ...   \n",
       "129966  129966   Germany  Notes of honeysuckle and cantaloupe sweeten th...   \n",
       "129967  129967        US  Citation is given as much as a decade of bottl...   \n",
       "129968  129968    France  Well-drained gravel soil gives this wine its c...   \n",
       "129969  129969    France  A dry style of Pinot Gris, this is crisp with ...   \n",
       "129970  129970    France  Big, rich and off-dry, this is powered by inte...   \n",
       "\n",
       "                                   designation  points  price  \\\n",
       "0                                 Vulkà Bianco      87    NaN   \n",
       "1                                     Avidagos      87   15.0   \n",
       "2                                          NaN      87   14.0   \n",
       "3                         Reserve Late Harvest      87   13.0   \n",
       "4           Vintner's Reserve Wild Child Block      87   65.0   \n",
       "...                                        ...     ...    ...   \n",
       "129966  Brauneberger Juffer-Sonnenuhr Spätlese      90   28.0   \n",
       "129967                                     NaN      90   75.0   \n",
       "129968                                   Kritt      90   30.0   \n",
       "129969                                     NaN      90   32.0   \n",
       "129970           Lieu-dit Harth Cuvée Caroline      90   21.0   \n",
       "\n",
       "                 province             region_1           region_2  \\\n",
       "0       Sicily & Sardinia                 Etna                NaN   \n",
       "1                   Douro                  NaN                NaN   \n",
       "2                  Oregon    Willamette Valley  Willamette Valley   \n",
       "3                Michigan  Lake Michigan Shore                NaN   \n",
       "4                  Oregon    Willamette Valley  Willamette Valley   \n",
       "...                   ...                  ...                ...   \n",
       "129966              Mosel                  NaN                NaN   \n",
       "129967             Oregon               Oregon       Oregon Other   \n",
       "129968             Alsace               Alsace                NaN   \n",
       "129969             Alsace               Alsace                NaN   \n",
       "129970             Alsace               Alsace                NaN   \n",
       "\n",
       "               taster_name taster_twitter_handle  \\\n",
       "0            Kerin O’Keefe          @kerinokeefe   \n",
       "1               Roger Voss            @vossroger   \n",
       "2             Paul Gregutt           @paulgwine    \n",
       "3       Alexander Peartree                   NaN   \n",
       "4             Paul Gregutt           @paulgwine    \n",
       "...                    ...                   ...   \n",
       "129966  Anna Lee C. Iijima                   NaN   \n",
       "129967        Paul Gregutt           @paulgwine    \n",
       "129968          Roger Voss            @vossroger   \n",
       "129969          Roger Voss            @vossroger   \n",
       "129970          Roger Voss            @vossroger   \n",
       "\n",
       "                                                    title         variety  \\\n",
       "0                       Nicosia 2013 Vulkà Bianco  (Etna)     White Blend   \n",
       "1           Quinta dos Avidagos 2011 Avidagos Red (Douro)  Portuguese Red   \n",
       "2           Rainstorm 2013 Pinot Gris (Willamette Valley)      Pinot Gris   \n",
       "3       St. Julian 2013 Reserve Late Harvest Riesling ...        Riesling   \n",
       "4       Sweet Cheeks 2012 Vintner's Reserve Wild Child...      Pinot Noir   \n",
       "...                                                   ...             ...   \n",
       "129966  Dr. H. Thanisch (Erben Müller-Burggraef) 2013 ...        Riesling   \n",
       "129967                  Citation 2004 Pinot Noir (Oregon)      Pinot Noir   \n",
       "129968  Domaine Gresser 2013 Kritt Gewurztraminer (Als...  Gewürztraminer   \n",
       "129969      Domaine Marcel Deiss 2012 Pinot Gris (Alsace)      Pinot Gris   \n",
       "129970  Domaine Schoffit 2012 Lieu-dit Harth Cuvée Car...  Gewürztraminer   \n",
       "\n",
       "                                          winery  \n",
       "0                                        Nicosia  \n",
       "1                            Quinta dos Avidagos  \n",
       "2                                      Rainstorm  \n",
       "3                                     St. Julian  \n",
       "4                                   Sweet Cheeks  \n",
       "...                                          ...  \n",
       "129966  Dr. H. Thanisch (Erben Müller-Burggraef)  \n",
       "129967                                  Citation  \n",
       "129968                           Domaine Gresser  \n",
       "129969                      Domaine Marcel Deiss  \n",
       "129970                          Domaine Schoffit  \n",
       "\n",
       "[129971 rows x 14 columns]>"
      ]
     },
     "execution_count": 3,
     "metadata": {},
     "output_type": "execute_result"
    }
   ],
   "source": [
    "df.info"
   ]
  },
  {
   "cell_type": "code",
   "execution_count": 5,
   "id": "5d9460ba",
   "metadata": {},
   "outputs": [
    {
     "data": {
      "text/html": [
       "<div>\n",
       "<style scoped>\n",
       "    .dataframe tbody tr th:only-of-type {\n",
       "        vertical-align: middle;\n",
       "    }\n",
       "\n",
       "    .dataframe tbody tr th {\n",
       "        vertical-align: top;\n",
       "    }\n",
       "\n",
       "    .dataframe thead th {\n",
       "        text-align: right;\n",
       "    }\n",
       "</style>\n",
       "<table border=\"1\" class=\"dataframe\">\n",
       "  <thead>\n",
       "    <tr style=\"text-align: right;\">\n",
       "      <th></th>\n",
       "      <th>id</th>\n",
       "      <th>points</th>\n",
       "      <th>price</th>\n",
       "    </tr>\n",
       "  </thead>\n",
       "  <tbody>\n",
       "    <tr>\n",
       "      <th>count</th>\n",
       "      <td>129971.000000</td>\n",
       "      <td>129971.000000</td>\n",
       "      <td>120975.000000</td>\n",
       "    </tr>\n",
       "    <tr>\n",
       "      <th>mean</th>\n",
       "      <td>64985.000000</td>\n",
       "      <td>88.447138</td>\n",
       "      <td>35.363389</td>\n",
       "    </tr>\n",
       "    <tr>\n",
       "      <th>std</th>\n",
       "      <td>37519.540256</td>\n",
       "      <td>3.039730</td>\n",
       "      <td>41.022218</td>\n",
       "    </tr>\n",
       "    <tr>\n",
       "      <th>min</th>\n",
       "      <td>0.000000</td>\n",
       "      <td>80.000000</td>\n",
       "      <td>4.000000</td>\n",
       "    </tr>\n",
       "    <tr>\n",
       "      <th>25%</th>\n",
       "      <td>32492.500000</td>\n",
       "      <td>86.000000</td>\n",
       "      <td>17.000000</td>\n",
       "    </tr>\n",
       "    <tr>\n",
       "      <th>50%</th>\n",
       "      <td>64985.000000</td>\n",
       "      <td>88.000000</td>\n",
       "      <td>25.000000</td>\n",
       "    </tr>\n",
       "    <tr>\n",
       "      <th>75%</th>\n",
       "      <td>97477.500000</td>\n",
       "      <td>91.000000</td>\n",
       "      <td>42.000000</td>\n",
       "    </tr>\n",
       "    <tr>\n",
       "      <th>max</th>\n",
       "      <td>129970.000000</td>\n",
       "      <td>100.000000</td>\n",
       "      <td>3300.000000</td>\n",
       "    </tr>\n",
       "  </tbody>\n",
       "</table>\n",
       "</div>"
      ],
      "text/plain": [
       "                  id         points          price\n",
       "count  129971.000000  129971.000000  120975.000000\n",
       "mean    64985.000000      88.447138      35.363389\n",
       "std     37519.540256       3.039730      41.022218\n",
       "min         0.000000      80.000000       4.000000\n",
       "25%     32492.500000      86.000000      17.000000\n",
       "50%     64985.000000      88.000000      25.000000\n",
       "75%     97477.500000      91.000000      42.000000\n",
       "max    129970.000000     100.000000    3300.000000"
      ]
     },
     "execution_count": 5,
     "metadata": {},
     "output_type": "execute_result"
    }
   ],
   "source": [
    "df.describe()"
   ]
  },
  {
   "cell_type": "code",
   "execution_count": 14,
   "id": "d7e41b6d",
   "metadata": {},
   "outputs": [
    {
     "data": {
      "image/png": "[encoded data removed]",
      "text/plain": [
       "<Figure size 288x288 with 1 Axes>"
      ]
     },
     "metadata": {},
     "output_type": "display_data"
    }
   ],
   "source": [
    "sns.set(style=\"darkgrid\")\n",
    "\n",
    "fig, ax = plt.subplots(figsize=(4, 4))\n",
    "sns.boxplot(data=df['points'], ax=ax)    \n",
    "ax.set_title(f\"Box Plot for Wine Scores\")\n",
    "ax.set_ylabel(\"Scores\")\n",
    "plt.show()"
   ]
  },
  {
   "cell_type": "code",
   "execution_count": 22,
   "id": "6fc5d189",
   "metadata": {},
   "outputs": [
    {
     "name": "stdout",
     "output_type": "stream",
     "text": [
      "Potential outliers:\n",
      "52\n"
     ]
    }
   ],
   "source": [
    "##Looking for outliers\n",
    "\n",
    "# Calculate the first quartile (Q1) and third quartile (Q3)\n",
    "Q1 = df['points'].quantile(0.25)\n",
    "Q3 = df['points'].quantile(0.75)\n",
    "\n",
    "# Calculate the interquartile range (IQR)\n",
    "IQR = Q3 - Q1\n",
    "\n",
    "# Define the lower and upper bounds for outliers\n",
    "lower_bound = Q1 - 1.5 * IQR\n",
    "upper_bound = Q3 + 1.5 * IQR\n",
    "\n",
    "# Find potential outliers\n",
    "outliers = df[(df['points'] < lower_bound) | (df['points'] > upper_bound)]\n",
    "outlier_pts = outliers['points']\n",
    "\n",
    "# Display the potential outliers\n",
    "print(\"Potential outliers:\")\n",
    "print(outlier_pts.count())"
   ]
  },
  {
   "cell_type": "code",
   "execution_count": 26,
   "id": "5eb2a504",
   "metadata": {},
   "outputs": [
    {
     "data": {
      "text/plain": [
       "(129919, 14)"
      ]
     },
     "execution_count": 26,
     "metadata": {},
     "output_type": "execute_result"
    }
   ],
   "source": [
    "## Drop outliers from datafram\n",
    "\n",
    "df_outliers_removed = df.drop(outliers.index)\n",
    "\n",
    "df_outliers_removed.shape\n",
    "## We see that 52 rows have been removed from our dataframe, as expected based on the 52 outliers"
   ]
  },
  {
   "cell_type": "code",
   "execution_count": 28,
   "id": "c73fe296",
   "metadata": {},
   "outputs": [
    {
     "name": "stdout",
     "output_type": "stream",
     "text": [
      "Column: id has a unique value for each row in the dataset\n",
      "country does not have a unique value for each row -- do not remove\n",
      "description does not have a unique value for each row -- do not remove\n",
      "designation does not have a unique value for each row -- do not remove\n",
      "points does not have a unique value for each row -- do not remove\n",
      "price does not have a unique value for each row -- do not remove\n",
      "province does not have a unique value for each row -- do not remove\n",
      "region_1 does not have a unique value for each row -- do not remove\n",
      "region_2 does not have a unique value for each row -- do not remove\n",
      "taster_name does not have a unique value for each row -- do not remove\n",
      "taster_twitter_handle does not have a unique value for each row -- do not remove\n",
      "title does not have a unique value for each row -- do not remove\n",
      "variety does not have a unique value for each row -- do not remove\n",
      "winery does not have a unique value for each row -- do not remove\n"
     ]
    }
   ],
   "source": [
    "##\n",
    "\n",
    "result_list = []\n",
    "\n",
    "for column in df_outliers_removed.columns:\n",
    "    uniqueVals = df_outliers_removed[column].unique()\n",
    "    if len(uniqueVals) == len(df_outliers_removed):\n",
    "        result_list.append(\"Column: \" + column + \" has a unique value for each row in the dataset\")\n",
    "    else:\n",
    "        result_list.append(column + \" does not have a unique value for each row -- do not remove\")\n",
    "\n",
    "result_list.sort()\n",
    "\n",
    "for result in result_list:\n",
    "    print(result)"
   ]
  },
  {
   "cell_type": "code",
   "execution_count": 29,
   "id": "f259fa14",
   "metadata": {},
   "outputs": [],
   "source": [
    "## ID is irrelevant to prediction, we will drop it\n",
    "\n",
    "df_outliers_removed.drop('id', axis = 1, inplace =T rue)"
   ]
  },
  {
   "cell_type": "code",
   "execution_count": 30,
   "id": "1556fe4c",
   "metadata": {},
   "outputs": [],
   "source": [
    "df = df_outliers_removed"
   ]
  },
  {
   "cell_type": "code",
   "execution_count": 32,
   "id": "7e4027e7",
   "metadata": {},
   "outputs": [],
   "source": [
    "df.drop('taster_twitter_handle', axis = 1, inplace = True)"
   ]
  },
  {
   "cell_type": "code",
   "execution_count": 34,
   "id": "4f9d89fe",
   "metadata": {},
   "outputs": [
    {
     "data": {
      "image/png": "[encoded data removed]",
      "text/plain": [
       "<Figure size 288x288 with 1 Axes>"
      ]
     },
     "metadata": {},
     "output_type": "display_data"
    }
   ],
   "source": [
    "sns.set(style=\"darkgrid\")\n",
    "\n",
    "fig, ax = plt.subplots(figsize=(4, 4))\n",
    "sns.boxplot(data=df['price'], ax=ax)    \n",
    "ax.set_title(f\"Box Plot for Wine Price\")\n",
    "ax.set_ylabel(\"Prices\")\n",
    "plt.show()"
   ]
  },
  {
   "cell_type": "code",
   "execution_count": 35,
   "id": "31d7407c",
   "metadata": {},
   "outputs": [
    {
     "name": "stdout",
     "output_type": "stream",
     "text": [
      "Potential outliers:\n",
      "7198\n"
     ]
    }
   ],
   "source": [
    "## Also want to remove outliers for price as this will be used as a predictor value of score\n",
    "\n",
    "# Calculate the first quartile (Q1) and third quartile (Q3)\n",
    "Q1 = df['price'].quantile(0.25)\n",
    "Q3 = df['price'].quantile(0.75)\n",
    "\n",
    "# Calculate the interquartile range (IQR)\n",
    "IQR = Q3 - Q1\n",
    "\n",
    "# Define the lower and upper bounds for outliers\n",
    "lower_bound = Q1 - 1.5 * IQR\n",
    "upper_bound = Q3 + 1.5 * IQR\n",
    "\n",
    "# Find potential outliers\n",
    "outliers = df[(df['price'] < lower_bound) | (df['price'] > upper_bound)]\n",
    "outlier_price = outliers['price']\n",
    "\n",
    "# Display the potential outliers\n",
    "print(\"Potential outliers:\")\n",
    "print(outlier_price.count())\n",
    "\n"
   ]
  },
  {
   "cell_type": "code",
   "execution_count": 36,
   "id": "a7ef2a7e",
   "metadata": {},
   "outputs": [],
   "source": [
    "df_outliers_removed = df.drop(outliers.index)"
   ]
  },
  {
   "cell_type": "code",
   "execution_count": 39,
   "id": "032a0291",
   "metadata": {},
   "outputs": [],
   "source": [
    "df = df_outliers_removed"
   ]
  },
  {
   "cell_type": "code",
   "execution_count": 40,
   "id": "9b3ad40f",
   "metadata": {},
   "outputs": [
    {
     "data": {
      "image/png": "[encoded data removed]",
      "text/plain": [
       "<Figure size 288x288 with 1 Axes>"
      ]
     },
     "metadata": {},
     "output_type": "display_data"
    }
   ],
   "source": [
    "## Plotting again with outliers removed\n",
    "\n",
    "sns.set(style=\"darkgrid\")\n",
    "\n",
    "fig, ax = plt.subplots(figsize=(4, 4))\n",
    "sns.boxplot(data=df['price'], ax=ax)    \n",
    "ax.set_title(f\"Box Plot for Wine Price\")\n",
    "ax.set_ylabel(\"Prices\")\n",
    "plt.show()\n",
    "\n",
    "## That looks better"
   ]
  },
  {
   "cell_type": "code",
   "execution_count": 41,
   "id": "4ae2776f",
   "metadata": {},
   "outputs": [],
   "source": [
    "## Since I will not be conducting any language analysis, I will remove the 'description' feature. \n",
    "## This could be another project\n",
    "\n",
    "df.drop('description', axis = 1, inplace = True)\n"
   ]
  },
  {
   "cell_type": "code",
   "execution_count": 43,
   "id": "9f7b2fec",
   "metadata": {},
   "outputs": [
    {
     "data": {
      "text/plain": [
       "165559"
      ]
     },
     "execution_count": 43,
     "metadata": {},
     "output_type": "execute_result"
    }
   ],
   "source": [
    "## Cleaning nulls\n",
    "\n",
    "df.isnull().values.sum()"
   ]
  },
  {
   "cell_type": "code",
   "execution_count": 44,
   "id": "2d8f02ff",
   "metadata": {},
   "outputs": [
    {
     "data": {
      "text/plain": [
       "country           63\n",
       "designation    36289\n",
       "points             0\n",
       "price           8991\n",
       "province          63\n",
       "region_1       20607\n",
       "region_2       74861\n",
       "taster_name    24684\n",
       "title              0\n",
       "variety            1\n",
       "winery             0\n",
       "dtype: int64"
      ]
     },
     "execution_count": 44,
     "metadata": {},
     "output_type": "execute_result"
    }
   ],
   "source": [
    "## Thats a lot\n",
    "\n",
    "df.isnull().sum() "
   ]
  },
  {
   "cell_type": "code",
   "execution_count": 45,
   "id": "1a1488a0",
   "metadata": {},
   "outputs": [],
   "source": [
    "## I want to preserve as many as rows as I can, so I will drop column region_2 as region_1 should be sufficient, then I will remove nulls\n",
    "\n",
    "df.drop('region_2', axis = 1, inplace = True)"
   ]
  },
  {
   "cell_type": "code",
   "execution_count": 49,
   "id": "bd7e8ebb",
   "metadata": {},
   "outputs": [
    {
     "data": {
      "text/plain": [
       "country           63\n",
       "designation    36289\n",
       "points             0\n",
       "price           8991\n",
       "province          63\n",
       "region_1       20607\n",
       "taster_name    24684\n",
       "title              0\n",
       "variety            1\n",
       "winery             0\n",
       "dtype: int64"
      ]
     },
     "execution_count": 49,
     "metadata": {},
     "output_type": "execute_result"
    }
   ],
   "source": [
    "df.isnull().sum() "
   ]
  },
  {
   "cell_type": "code",
   "execution_count": 50,
   "id": "bf81b5a3",
   "metadata": {},
   "outputs": [],
   "source": [
    "## Now we can drop nulls\n",
    "\n",
    "df.dropna(inplace=True)"
   ]
  },
  {
   "cell_type": "code",
   "execution_count": 51,
   "id": "397e0857",
   "metadata": {},
   "outputs": [
    {
     "data": {
      "text/plain": [
       "country        0\n",
       "designation    0\n",
       "points         0\n",
       "price          0\n",
       "province       0\n",
       "region_1       0\n",
       "taster_name    0\n",
       "title          0\n",
       "variety        0\n",
       "winery         0\n",
       "dtype: int64"
      ]
     },
     "execution_count": 51,
     "metadata": {},
     "output_type": "execute_result"
    }
   ],
   "source": [
    "df.isnull().sum() \n",
    "\n",
    "## It worked!"
   ]
  },
  {
   "cell_type": "code",
   "execution_count": 52,
   "id": "e3db3043",
   "metadata": {},
   "outputs": [
    {
     "data": {
      "text/plain": [
       "(49988, 10)"
      ]
     },
     "execution_count": 52,
     "metadata": {},
     "output_type": "execute_result"
    }
   ],
   "source": [
    "df.shape\n",
    "#We still have nearly 50,000 records left; well done! This should be more than enough to create an accurate model"
   ]
  },
  {
   "cell_type": "code",
   "execution_count": 53,
   "id": "1beeccfb",
   "metadata": {},
   "outputs": [
    {
     "name": "stdout",
     "output_type": "stream",
     "text": [
      "['country', 'designation', 'province', 'region_1', 'taster_name', 'title', 'variety', 'winery']\n"
     ]
    }
   ],
   "source": [
    "## Data transformation time\n",
    "\n",
    "non_numeric_features = df.select_dtypes(exclude = np.number).columns.tolist()\n",
    "print(non_numeric_features)"
   ]
  },
  {
   "cell_type": "code",
   "execution_count": 64,
   "id": "30a4b47a",
   "metadata": {},
   "outputs": [
    {
     "data": {
      "text/html": [
       "<div>\n",
       "<style scoped>\n",
       "    .dataframe tbody tr th:only-of-type {\n",
       "        vertical-align: middle;\n",
       "    }\n",
       "\n",
       "    .dataframe tbody tr th {\n",
       "        vertical-align: top;\n",
       "    }\n",
       "\n",
       "    .dataframe thead th {\n",
       "        text-align: right;\n",
       "    }\n",
       "</style>\n",
       "<table border=\"1\" class=\"dataframe\">\n",
       "  <thead>\n",
       "    <tr style=\"text-align: right;\">\n",
       "      <th></th>\n",
       "      <th>country</th>\n",
       "      <th>designation</th>\n",
       "      <th>points</th>\n",
       "      <th>price</th>\n",
       "      <th>province</th>\n",
       "      <th>region_1</th>\n",
       "      <th>taster_name</th>\n",
       "      <th>title</th>\n",
       "      <th>variety</th>\n",
       "      <th>winery</th>\n",
       "    </tr>\n",
       "  </thead>\n",
       "  <tbody>\n",
       "    <tr>\n",
       "      <th>3</th>\n",
       "      <td>0</td>\n",
       "      <td>0</td>\n",
       "      <td>87</td>\n",
       "      <td>13.0</td>\n",
       "      <td>0</td>\n",
       "      <td>0</td>\n",
       "      <td>0</td>\n",
       "      <td>0</td>\n",
       "      <td>0</td>\n",
       "      <td>0</td>\n",
       "    </tr>\n",
       "    <tr>\n",
       "      <th>4</th>\n",
       "      <td>0</td>\n",
       "      <td>1</td>\n",
       "      <td>87</td>\n",
       "      <td>65.0</td>\n",
       "      <td>1</td>\n",
       "      <td>1</td>\n",
       "      <td>1</td>\n",
       "      <td>1</td>\n",
       "      <td>1</td>\n",
       "      <td>1</td>\n",
       "    </tr>\n",
       "    <tr>\n",
       "      <th>5</th>\n",
       "      <td>1</td>\n",
       "      <td>2</td>\n",
       "      <td>87</td>\n",
       "      <td>15.0</td>\n",
       "      <td>2</td>\n",
       "      <td>2</td>\n",
       "      <td>2</td>\n",
       "      <td>2</td>\n",
       "      <td>2</td>\n",
       "      <td>2</td>\n",
       "    </tr>\n",
       "    <tr>\n",
       "      <th>6</th>\n",
       "      <td>2</td>\n",
       "      <td>3</td>\n",
       "      <td>87</td>\n",
       "      <td>16.0</td>\n",
       "      <td>3</td>\n",
       "      <td>3</td>\n",
       "      <td>3</td>\n",
       "      <td>3</td>\n",
       "      <td>3</td>\n",
       "      <td>3</td>\n",
       "    </tr>\n",
       "    <tr>\n",
       "      <th>9</th>\n",
       "      <td>3</td>\n",
       "      <td>4</td>\n",
       "      <td>87</td>\n",
       "      <td>27.0</td>\n",
       "      <td>4</td>\n",
       "      <td>4</td>\n",
       "      <td>4</td>\n",
       "      <td>4</td>\n",
       "      <td>4</td>\n",
       "      <td>4</td>\n",
       "    </tr>\n",
       "    <tr>\n",
       "      <th>10</th>\n",
       "      <td>0</td>\n",
       "      <td>5</td>\n",
       "      <td>87</td>\n",
       "      <td>19.0</td>\n",
       "      <td>5</td>\n",
       "      <td>5</td>\n",
       "      <td>5</td>\n",
       "      <td>5</td>\n",
       "      <td>5</td>\n",
       "      <td>5</td>\n",
       "    </tr>\n",
       "    <tr>\n",
       "      <th>16</th>\n",
       "      <td>4</td>\n",
       "      <td>6</td>\n",
       "      <td>87</td>\n",
       "      <td>30.0</td>\n",
       "      <td>6</td>\n",
       "      <td>6</td>\n",
       "      <td>2</td>\n",
       "      <td>6</td>\n",
       "      <td>6</td>\n",
       "      <td>6</td>\n",
       "    </tr>\n",
       "    <tr>\n",
       "      <th>17</th>\n",
       "      <td>4</td>\n",
       "      <td>7</td>\n",
       "      <td>87</td>\n",
       "      <td>13.0</td>\n",
       "      <td>7</td>\n",
       "      <td>7</td>\n",
       "      <td>2</td>\n",
       "      <td>7</td>\n",
       "      <td>6</td>\n",
       "      <td>7</td>\n",
       "    </tr>\n",
       "    <tr>\n",
       "      <th>18</th>\n",
       "      <td>1</td>\n",
       "      <td>8</td>\n",
       "      <td>87</td>\n",
       "      <td>28.0</td>\n",
       "      <td>2</td>\n",
       "      <td>8</td>\n",
       "      <td>2</td>\n",
       "      <td>8</td>\n",
       "      <td>7</td>\n",
       "      <td>8</td>\n",
       "    </tr>\n",
       "    <tr>\n",
       "      <th>20</th>\n",
       "      <td>0</td>\n",
       "      <td>9</td>\n",
       "      <td>87</td>\n",
       "      <td>23.0</td>\n",
       "      <td>8</td>\n",
       "      <td>9</td>\n",
       "      <td>0</td>\n",
       "      <td>9</td>\n",
       "      <td>8</td>\n",
       "      <td>9</td>\n",
       "    </tr>\n",
       "  </tbody>\n",
       "</table>\n",
       "</div>"
      ],
      "text/plain": [
       "    country  designation  points  price  province  region_1  taster_name  \\\n",
       "3         0            0      87   13.0         0         0            0   \n",
       "4         0            1      87   65.0         1         1            1   \n",
       "5         1            2      87   15.0         2         2            2   \n",
       "6         2            3      87   16.0         3         3            3   \n",
       "9         3            4      87   27.0         4         4            4   \n",
       "10        0            5      87   19.0         5         5            5   \n",
       "16        4            6      87   30.0         6         6            2   \n",
       "17        4            7      87   13.0         7         7            2   \n",
       "18        1            8      87   28.0         2         8            2   \n",
       "20        0            9      87   23.0         8         9            0   \n",
       "\n",
       "    title  variety  winery  \n",
       "3       0        0       0  \n",
       "4       1        1       1  \n",
       "5       2        2       2  \n",
       "6       3        3       3  \n",
       "9       4        4       4  \n",
       "10      5        5       5  \n",
       "16      6        6       6  \n",
       "17      7        6       7  \n",
       "18      8        7       8  \n",
       "20      9        8       9  "
      ]
     },
     "execution_count": 64,
     "metadata": {},
     "output_type": "execute_result"
    }
   ],
   "source": [
    "# Create a copy of the DataFrame to store the mapped values\n",
    "df_mapped = df.copy()\n",
    "\n",
    "# Iterate through each non-numeric feature column\n",
    "for column in non_numeric_features:\n",
    "    # Use the factorize() function to assign numeric values to the unique values in the column\n",
    "    df_mapped[column] = pd.factorize(df[column])[0]\n",
    "\n",
    "# Display the DataFrame with mapped values\n",
    "df_mapped.head(10)\n",
    "\n",
    "df = df_mapped\n",
    "df.head(10)"
   ]
  },
  {
   "cell_type": "code",
   "execution_count": 68,
   "id": "dba18897",
   "metadata": {},
   "outputs": [
    {
     "data": {
      "text/plain": [
       "0    24371\n",
       "3    10413\n",
       "2     6205\n",
       "1     4886\n",
       "4     2676\n",
       "5     1277\n",
       "6      160\n",
       "Name: country, dtype: int64"
      ]
     },
     "execution_count": 68,
     "metadata": {},
     "output_type": "execute_result"
    }
   ],
   "source": [
    "## Lets just check that worked \n",
    "\n",
    "df['country'].value_counts()\n",
    "\n",
    "## Seems to have worked, we can check others"
   ]
  },
  {
   "cell_type": "code",
   "execution_count": 69,
   "id": "988cc650",
   "metadata": {},
   "outputs": [
    {
     "data": {
      "text/plain": [
       "4     8199\n",
       "2     7660\n",
       "1     6159\n",
       "3     6068\n",
       "5     5859\n",
       "6     4372\n",
       "7     3233\n",
       "10    2583\n",
       "8     2069\n",
       "9     1702\n",
       "11    1137\n",
       "13     426\n",
       "0      254\n",
       "12     162\n",
       "14      96\n",
       "16       7\n",
       "15       2\n",
       "Name: taster_name, dtype: int64"
      ]
     },
     "execution_count": 69,
     "metadata": {},
     "output_type": "execute_result"
    }
   ],
   "source": [
    "df['taster_name'].value_counts()"
   ]
  },
  {
   "cell_type": "code",
   "execution_count": 71,
   "id": "f8171134",
   "metadata": {},
   "outputs": [],
   "source": [
    "## Model time\n",
    "\n",
    "Y = df.iloc[:, df.columns.get_loc('points')]\n",
    "X = df.loc[:, df.columns != 'points']\n",
    "\n",
    "X_train, X_test, Y_train, Y_test = train_test_split(X,Y, test_size=0.2, random_state=0)"
   ]
  },
  {
   "cell_type": "code",
   "execution_count": 72,
   "id": "9650a0c3",
   "metadata": {},
   "outputs": [
    {
     "name": "stdout",
     "output_type": "stream",
     "text": [
      "        country  designation  price  province  region_1  taster_name  title  \\\n",
      "49886         3        11343   60.0        13        21            4  18368   \n",
      "26436         0         6818   45.0         1         1            1   9874   \n",
      "111517        0        19997   20.0        18        34            9  39210   \n",
      "36158         0         4728   26.0         5        22            6  13415   \n",
      "44798         0        10426   50.0         5        11            6  16563   \n",
      "...         ...          ...    ...       ...       ...          ...    ...   \n",
      "55774         2        12289   22.0        11       389            3  20381   \n",
      "119399        2        20924   25.0         3        10            3  41723   \n",
      "110830        2        10604   38.0         3        89            3  16900   \n",
      "113522        3        17833   14.0        20        46            4  39797   \n",
      "7267          0           56   29.0         5       117           10   2717   \n",
      "\n",
      "        variety  winery  \n",
      "49886        16    4373  \n",
      "26436         1     382  \n",
      "111517        0      42  \n",
      "36158       313    1756  \n",
      "44798        24    1590  \n",
      "...         ...     ...  \n",
      "55774        67    2923  \n",
      "119399       11    5744  \n",
      "110830        8    3359  \n",
      "113522      302     431  \n",
      "7267         20    1034  \n",
      "\n",
      "[39990 rows x 9 columns]\n"
     ]
    }
   ],
   "source": [
    "print(X_train)"
   ]
  },
  {
   "cell_type": "code",
   "execution_count": 73,
   "id": "8fcd6dfe",
   "metadata": {},
   "outputs": [
    {
     "name": "stdout",
     "output_type": "stream",
     "text": [
      "49886     90\n",
      "26436     94\n",
      "111517    85\n",
      "36158     92\n",
      "44798     88\n",
      "          ..\n",
      "55774     85\n",
      "119399    86\n",
      "110830    92\n",
      "113522    90\n",
      "7267      89\n",
      "Name: points, Length: 39990, dtype: int64\n"
     ]
    }
   ],
   "source": [
    "print(Y_train)"
   ]
  },
  {
   "cell_type": "code",
   "execution_count": 74,
   "id": "3ef85eaf",
   "metadata": {},
   "outputs": [
    {
     "data": {
      "text/plain": [
       "LinearRegression()"
      ]
     },
     "execution_count": 74,
     "metadata": {},
     "output_type": "execute_result"
    }
   ],
   "source": [
    "lr = LinearRegression()\n",
    "lr.fit(X_train, Y_train)"
   ]
  },
  {
   "cell_type": "code",
   "execution_count": 75,
   "id": "44386c40",
   "metadata": {},
   "outputs": [],
   "source": [
    "Y_pred = lr.predict(X_test)"
   ]
  },
  {
   "cell_type": "code",
   "execution_count": 76,
   "id": "08e45fe1",
   "metadata": {},
   "outputs": [
    {
     "name": "stdout",
     "output_type": "stream",
     "text": [
      "[92.7050604  89.59795723 86.76848571 ... 86.97051214 88.43121662\n",
      " 88.53761334]\n"
     ]
    }
   ],
   "source": [
    "print(Y_pred)"
   ]
  },
  {
   "cell_type": "code",
   "execution_count": 77,
   "id": "55699908",
   "metadata": {},
   "outputs": [
    {
     "name": "stdout",
     "output_type": "stream",
     "text": [
      "0.3047824510036411\n"
     ]
    }
   ],
   "source": [
    "print(metrics.r2_score(Y_test, Y_pred))\n",
    "\n",
    "## The model is ok"
   ]
  },
  {
   "cell_type": "code",
   "execution_count": 78,
   "id": "5ab97c2e",
   "metadata": {},
   "outputs": [
    {
     "data": {
      "text/plain": [
       "Text(0, 0.5, 'Predicted')"
      ]
     },
     "execution_count": 78,
     "metadata": {},
     "output_type": "execute_result"
    },
    {
     "data": {
      "image/png": "[encoded data removed]",
      "text/plain": [
       "<Figure size 432x288 with 1 Axes>"
      ]
     },
     "metadata": {},
     "output_type": "display_data"
    }
   ],
   "source": [
    "plt.scatter(Y_test,Y_pred)\n",
    "plt.xlabel('Actual')\n",
    "plt.ylabel('Predicted')"
   ]
  },
  {
   "cell_type": "code",
   "execution_count": 79,
   "id": "f5c59d59",
   "metadata": {},
   "outputs": [
    {
     "data": {
      "image/png": "[encoded data removed]",
      "text/plain": [
       "<Figure size 432x288 with 1 Axes>"
      ]
     },
     "metadata": {},
     "output_type": "display_data"
    }
   ],
   "source": [
    "sns.regplot(x=Y_test,y=Y_pred,ci=None,color='blue');"
   ]
  },
  {
   "cell_type": "code",
   "execution_count": 83,
   "id": "f3b2b5af",
   "metadata": {},
   "outputs": [
    {
     "name": "stdout",
     "output_type": "stream",
     "text": [
      "85.7097274321623\n"
     ]
    }
   ],
   "source": [
    "## It's not that good!\n",
    "intercept = lr.intercept_\n",
    "print(intercept)"
   ]
  },
  {
   "cell_type": "code",
   "execution_count": 84,
   "id": "fd2d8d7a",
   "metadata": {},
   "outputs": [
    {
     "name": "stdout",
     "output_type": "stream",
     "text": [
      "[-1.43020988e-02 -3.22145668e-06  9.03341997e-02 -5.48744139e-03\n",
      " -1.79460885e-04  7.55551194e-02  6.20196155e-06  2.86935727e-04\n",
      " -1.07065166e-04]\n"
     ]
    }
   ],
   "source": [
    "coef = lr.coef_\n",
    "print(coef)"
   ]
  },
  {
   "cell_type": "code",
   "execution_count": 93,
   "id": "353e12f6",
   "metadata": {},
   "outputs": [
    {
     "name": "stdout",
     "output_type": "stream",
     "text": [
      "Multiple Linear Regression Formula:\n",
      "points = 85.71 - 0.01 * country - 0.00 * designation + 0.09 * price - 0.01 * province - 0.00 * region_1 + 0.08 * taster_name + 0.00 * title + 0.00 * variety - 0.00 * winery\n"
     ]
    }
   ],
   "source": [
    "# Get the feature names from the DataFrame columns (excluding the target variable)\n",
    "feature_names = df.drop('points', axis=1).columns.tolist()\n",
    "\n",
    "# Initialize an empty list to store the formula terms\n",
    "formula_terms = []\n",
    "\n",
    "# Add the intercept term\n",
    "formula_terms.append(f\"{intercept:.2f}\")\n",
    "\n",
    "# Add the terms for each coefficient and feature\n",
    "for i, coefficient in enumerate(coef):\n",
    "    if coefficient >= 0:\n",
    "        formula_terms.append(f\"+ {coefficient:.2f} * {feature_names[i]}\")\n",
    "    else:\n",
    "        formula_terms.append(f\"- {abs(coefficient):.2f} * {feature_names[i]}\")\n",
    "\n",
    "# Join the formula terms to create the complete formula\n",
    "formula = \" \".join(formula_terms)\n",
    "\n",
    "# Print the multiple linear regression formula with the target variable 'price'\n",
    "print(\"Multiple Linear Regression Formula:\")\n",
    "print(\"points =\", formula)"
   ]
  },
  {
   "cell_type": "code",
   "execution_count": 97,
   "id": "b4c1a8ef",
   "metadata": {},
   "outputs": [],
   "source": [
    "## Obviously this model is not very useful, so lets see if we can improve it\n",
    "drop_cols = ['designation', 'taster_name', 'title']\n",
    "df_new = df.drop(columns=drop_cols)"
   ]
  },
  {
   "cell_type": "code",
   "execution_count": 98,
   "id": "494d0ceb",
   "metadata": {},
   "outputs": [
    {
     "data": {
      "text/html": [
       "<div>\n",
       "<style scoped>\n",
       "    .dataframe tbody tr th:only-of-type {\n",
       "        vertical-align: middle;\n",
       "    }\n",
       "\n",
       "    .dataframe tbody tr th {\n",
       "        vertical-align: top;\n",
       "    }\n",
       "\n",
       "    .dataframe thead th {\n",
       "        text-align: right;\n",
       "    }\n",
       "</style>\n",
       "<table border=\"1\" class=\"dataframe\">\n",
       "  <thead>\n",
       "    <tr style=\"text-align: right;\">\n",
       "      <th></th>\n",
       "      <th>country</th>\n",
       "      <th>points</th>\n",
       "      <th>price</th>\n",
       "      <th>province</th>\n",
       "      <th>region_1</th>\n",
       "      <th>variety</th>\n",
       "      <th>winery</th>\n",
       "    </tr>\n",
       "  </thead>\n",
       "  <tbody>\n",
       "    <tr>\n",
       "      <th>3</th>\n",
       "      <td>0</td>\n",
       "      <td>87</td>\n",
       "      <td>13.0</td>\n",
       "      <td>0</td>\n",
       "      <td>0</td>\n",
       "      <td>0</td>\n",
       "      <td>0</td>\n",
       "    </tr>\n",
       "    <tr>\n",
       "      <th>4</th>\n",
       "      <td>0</td>\n",
       "      <td>87</td>\n",
       "      <td>65.0</td>\n",
       "      <td>1</td>\n",
       "      <td>1</td>\n",
       "      <td>1</td>\n",
       "      <td>1</td>\n",
       "    </tr>\n",
       "    <tr>\n",
       "      <th>5</th>\n",
       "      <td>1</td>\n",
       "      <td>87</td>\n",
       "      <td>15.0</td>\n",
       "      <td>2</td>\n",
       "      <td>2</td>\n",
       "      <td>2</td>\n",
       "      <td>2</td>\n",
       "    </tr>\n",
       "    <tr>\n",
       "      <th>6</th>\n",
       "      <td>2</td>\n",
       "      <td>87</td>\n",
       "      <td>16.0</td>\n",
       "      <td>3</td>\n",
       "      <td>3</td>\n",
       "      <td>3</td>\n",
       "      <td>3</td>\n",
       "    </tr>\n",
       "    <tr>\n",
       "      <th>9</th>\n",
       "      <td>3</td>\n",
       "      <td>87</td>\n",
       "      <td>27.0</td>\n",
       "      <td>4</td>\n",
       "      <td>4</td>\n",
       "      <td>4</td>\n",
       "      <td>4</td>\n",
       "    </tr>\n",
       "    <tr>\n",
       "      <th>10</th>\n",
       "      <td>0</td>\n",
       "      <td>87</td>\n",
       "      <td>19.0</td>\n",
       "      <td>5</td>\n",
       "      <td>5</td>\n",
       "      <td>5</td>\n",
       "      <td>5</td>\n",
       "    </tr>\n",
       "    <tr>\n",
       "      <th>16</th>\n",
       "      <td>4</td>\n",
       "      <td>87</td>\n",
       "      <td>30.0</td>\n",
       "      <td>6</td>\n",
       "      <td>6</td>\n",
       "      <td>6</td>\n",
       "      <td>6</td>\n",
       "    </tr>\n",
       "    <tr>\n",
       "      <th>17</th>\n",
       "      <td>4</td>\n",
       "      <td>87</td>\n",
       "      <td>13.0</td>\n",
       "      <td>7</td>\n",
       "      <td>7</td>\n",
       "      <td>6</td>\n",
       "      <td>7</td>\n",
       "    </tr>\n",
       "    <tr>\n",
       "      <th>18</th>\n",
       "      <td>1</td>\n",
       "      <td>87</td>\n",
       "      <td>28.0</td>\n",
       "      <td>2</td>\n",
       "      <td>8</td>\n",
       "      <td>7</td>\n",
       "      <td>8</td>\n",
       "    </tr>\n",
       "    <tr>\n",
       "      <th>20</th>\n",
       "      <td>0</td>\n",
       "      <td>87</td>\n",
       "      <td>23.0</td>\n",
       "      <td>8</td>\n",
       "      <td>9</td>\n",
       "      <td>8</td>\n",
       "      <td>9</td>\n",
       "    </tr>\n",
       "  </tbody>\n",
       "</table>\n",
       "</div>"
      ],
      "text/plain": [
       "    country  points  price  province  region_1  variety  winery\n",
       "3         0      87   13.0         0         0        0       0\n",
       "4         0      87   65.0         1         1        1       1\n",
       "5         1      87   15.0         2         2        2       2\n",
       "6         2      87   16.0         3         3        3       3\n",
       "9         3      87   27.0         4         4        4       4\n",
       "10        0      87   19.0         5         5        5       5\n",
       "16        4      87   30.0         6         6        6       6\n",
       "17        4      87   13.0         7         7        6       7\n",
       "18        1      87   28.0         2         8        7       8\n",
       "20        0      87   23.0         8         9        8       9"
      ]
     },
     "execution_count": 98,
     "metadata": {},
     "output_type": "execute_result"
    }
   ],
   "source": [
    "## Test test\n",
    "df.head(10)"
   ]
  },
  {
   "cell_type": "code",
   "execution_count": 100,
   "id": "721b0415",
   "metadata": {},
   "outputs": [],
   "source": [
    "## mlg rd 2\n",
    "Y = df_new.iloc[:, df_new.columns.get_loc('points')]\n",
    "X = df_new.loc[:, df_new.columns != 'points']\n",
    "\n",
    "X_train, X_test, Y_train, Y_test = train_test_split(X,Y, test_size=0.2, random_state=0)"
   ]
  },
  {
   "cell_type": "code",
   "execution_count": 101,
   "id": "84e2be94",
   "metadata": {},
   "outputs": [
    {
     "name": "stdout",
     "output_type": "stream",
     "text": [
      "        country  price  province  region_1  variety  winery\n",
      "49886         3   60.0        13        21       16    4373\n",
      "26436         0   45.0         1         1        1     382\n",
      "111517        0   20.0        18        34        0      42\n",
      "36158         0   26.0         5        22      313    1756\n",
      "44798         0   50.0         5        11       24    1590\n",
      "...         ...    ...       ...       ...      ...     ...\n",
      "55774         2   22.0        11       389       67    2923\n",
      "119399        2   25.0         3        10       11    5744\n",
      "110830        2   38.0         3        89        8    3359\n",
      "113522        3   14.0        20        46      302     431\n",
      "7267          0   29.0         5       117       20    1034\n",
      "\n",
      "[39990 rows x 6 columns]\n"
     ]
    }
   ],
   "source": [
    "print(X_train)"
   ]
  },
  {
   "cell_type": "code",
   "execution_count": 102,
   "id": "f025af7c",
   "metadata": {},
   "outputs": [
    {
     "name": "stdout",
     "output_type": "stream",
     "text": [
      "49886     90\n",
      "26436     94\n",
      "111517    85\n",
      "36158     92\n",
      "44798     88\n",
      "          ..\n",
      "55774     85\n",
      "119399    86\n",
      "110830    92\n",
      "113522    90\n",
      "7267      89\n",
      "Name: points, Length: 39990, dtype: int64\n"
     ]
    }
   ],
   "source": [
    "print(Y_train)"
   ]
  },
  {
   "cell_type": "code",
   "execution_count": 103,
   "id": "fa6201e0",
   "metadata": {},
   "outputs": [
    {
     "data": {
      "text/plain": [
       "LinearRegression()"
      ]
     },
     "execution_count": 103,
     "metadata": {},
     "output_type": "execute_result"
    }
   ],
   "source": [
    "lr = LinearRegression()\n",
    "lr.fit(X_train, Y_train)"
   ]
  },
  {
   "cell_type": "code",
   "execution_count": 104,
   "id": "ac351d50",
   "metadata": {},
   "outputs": [],
   "source": [
    "Y_pred = lr.predict(X_test)"
   ]
  },
  {
   "cell_type": "code",
   "execution_count": 105,
   "id": "d7f6b471",
   "metadata": {},
   "outputs": [
    {
     "name": "stdout",
     "output_type": "stream",
     "text": [
      "0.2981758378392977\n"
     ]
    }
   ],
   "source": [
    "print(metrics.r2_score(Y_test, Y_pred))"
   ]
  },
  {
   "cell_type": "code",
   "execution_count": 106,
   "id": "22e0af95",
   "metadata": {},
   "outputs": [
    {
     "data": {
      "image/png": "[encoded data removed]",
      "text/plain": [
       "<Figure size 432x288 with 1 Axes>"
      ]
     },
     "metadata": {},
     "output_type": "display_data"
    }
   ],
   "source": [
    "## The model has gotten worse...\n",
    "\n",
    "sns.regplot(x=Y_test,y=Y_pred,ci=None,color='blue');"
   ]
  },
  {
   "cell_type": "code",
   "execution_count": 107,
   "id": "cd726f9d",
   "metadata": {},
   "outputs": [
    {
     "name": "stdout",
     "output_type": "stream",
     "text": [
      "86.1826686917148\n"
     ]
    }
   ],
   "source": [
    "intercept = lr.intercept_\n",
    "print(intercept)"
   ]
  },
  {
   "cell_type": "code",
   "execution_count": 108,
   "id": "ef2cbce6",
   "metadata": {},
   "outputs": [
    {
     "name": "stdout",
     "output_type": "stream",
     "text": [
      "[-3.01977918e-02  9.00712969e-02 -4.09983841e-03 -1.24812411e-04\n",
      " -5.38308179e-05 -1.05699154e-04]\n"
     ]
    }
   ],
   "source": [
    "coef = lr.coef_\n",
    "print(coef)"
   ]
  },
  {
   "cell_type": "code",
   "execution_count": 110,
   "id": "7452ae9c",
   "metadata": {},
   "outputs": [
    {
     "name": "stdout",
     "output_type": "stream",
     "text": [
      "Multiple Linear Regression Formula:\n",
      "points = 86.18 - 0.03 * country + 0.09 * price - 0.00 * province - 0.00 * region_1 - 0.00 * variety - 0.00 * winery\n"
     ]
    }
   ],
   "source": [
    "# Get the feature names from the DataFrame columns (excluding the target variable)\n",
    "feature_names = df_new.drop('points', axis=1).columns.tolist()\n",
    "\n",
    "# Initialize an empty list to store the formula terms\n",
    "formula_terms = []\n",
    "\n",
    "# Add the intercept term\n",
    "formula_terms.append(f\"{intercept:.2f}\")\n",
    "\n",
    "# Add the terms for each coefficient and feature\n",
    "for i, coefficient in enumerate(coef):\n",
    "    if coefficient >= 0:\n",
    "        formula_terms.append(f\"+ {coefficient:.2f} * {feature_names[i]}\")\n",
    "    else:\n",
    "        formula_terms.append(f\"- {abs(coefficient):.2f} * {feature_names[i]}\")\n",
    "\n",
    "# Join the formula terms to create the complete formula\n",
    "formula = \" \".join(formula_terms)\n",
    "\n",
    "# Print the multiple linear regression formula with the target variable 'price'\n",
    "print(\"Multiple Linear Regression Formula:\")\n",
    "print(\"points =\", formula)"
   ]
  },
  {
   "cell_type": "code",
   "execution_count": null,
   "id": "dd4b4d54",
   "metadata": {},
   "outputs": [],
   "source": []
  }
 ],
 "metadata": {
  "kernelspec": {
   "display_name": "Python 3 (ipykernel)",
   "language": "python",
   "name": "python3"
  },
  "language_info": {
   "codemirror_mode": {
    "name": "ipython",
    "version": 3
   },
   "file_extension": ".py",
   "mimetype": "text/x-python",
   "name": "python",
   "nbconvert_exporter": "python",
   "pygments_lexer": "ipython3",
   "version": "3.9.12"
  }
 },
 "nbformat": 4,
 "nbformat_minor": 5
}
